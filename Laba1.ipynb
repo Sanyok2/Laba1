{
  "nbformat": 4,
  "nbformat_minor": 0,
  "metadata": {
    "colab": {
      "name": "Untitled0.ipynb",
      "provenance": [],
      "collapsed_sections": [],
      "authorship_tag": "ABX9TyOvvDRzmPj2ZGWa4NRYaXZK",
      "include_colab_link": true
    },
    "kernelspec": {
      "name": "python3",
      "display_name": "Python 3"
    }
  },
  "cells": [
    {
      "cell_type": "markdown",
      "metadata": {
        "id": "view-in-github",
        "colab_type": "text"
      },
      "source": [
        "<a href=\"https://colab.research.google.com/github/Sanyok2/Laba1/blob/master/Laba1.ipynb\" target=\"_parent\"><img src=\"https://colab.research.google.com/assets/colab-badge.svg\" alt=\"Open In Colab\"/></a>"
      ]
    },
    {
      "cell_type": "code",
      "metadata": {
        "id": "Osq0l0eGVSw9",
        "colab_type": "code",
        "colab": {}
      },
      "source": [
        "Пример работы с Markdown "
      ],
      "execution_count": 0,
      "outputs": []
    },
    {
      "cell_type": "markdown",
      "metadata": {
        "id": "OpJbi2CqXX8M",
        "colab_type": "text"
      },
      "source": [
        "Нужно сделать:\n",
        "1. Список\n",
        "2. Рисунок\n",
        "3. Таблицу\n",
        "4. Ссылку"
      ]
    },
    {
      "cell_type": "markdown",
      "metadata": {
        "id": "74OGzfHyXd3W",
        "colab_type": "text"
      },
      "source": [
        "![alt text](https://avatars.mds.yandex.net/get-pdb/51720/758690e7-a169-4479-8853-e77993ce8e66/s1200?webp=false)"
      ]
    },
    {
      "cell_type": "markdown",
      "metadata": {
        "id": "SVE0ns_YYLMW",
        "colab_type": "text"
      },
      "source": [
        "Алекс|Роман\n",
        "----- | -----\n",
        "23|17\n",
        "15|22\n",
        "38|39"
      ]
    },
    {
      "cell_type": "markdown",
      "metadata": {
        "id": "lETxKdHrY4go",
        "colab_type": "text"
      },
      "source": [
        "[Ссылка на поисковик Яндекс][1]\n",
        "\n",
        "[1]: https://ya.ru \"Яндекс\""
      ]
    },
    {
      "cell_type": "markdown",
      "metadata": {
        "id": "V8x-QBPvZO-X",
        "colab_type": "text"
      },
      "source": [
        "Изменено"
      ]
    }
  ]
}